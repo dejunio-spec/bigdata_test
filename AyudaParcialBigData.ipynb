{
  "nbformat": 4,
  "nbformat_minor": 0,
  "metadata": {
    "colab": {
      "name": "AyudaParcialBigData.ipynb",
      "provenance": []
    },
    "kernelspec": {
      "name": "python3",
      "display_name": "Python 3"
    },
    "language_info": {
      "name": "python"
    }
  },
  "cells": [
    {
      "cell_type": "code",
      "execution_count": 3,
      "metadata": {
        "colab": {
          "base_uri": "https://localhost:8080/"
        },
        "id": "GJEMD062kxIs",
        "outputId": "96049476-5968-405f-ddc8-716e81b1b195"
      },
      "outputs": [
        {
          "output_type": "stream",
          "name": "stdout",
          "text": [
            "El número: 2 SI es primo\n",
            "El número: 9 NO es primo\n",
            "El número: 12 NO es primo\n",
            "El número: 13 SI es primo\n",
            "El número: 23 SI es primo\n",
            "El número: 127 SI es primo\n"
          ]
        }
      ],
      "source": [
        "with open(\"num.txt\", \"r\") as freader:\n",
        "  lineas = freader.readlines()\n",
        "  for x in range(len(lineas)):\n",
        "    numero = int(lineas[x])\n",
        "    resultado = f\"El número: {str(numero)} SI es primo\"\n",
        "    for y in range(2, numero-1):\n",
        "      if((numero % y) == 0):\n",
        "        resultado = f\"El número: {str(numero)} NO es primo\"\n",
        "        break\n",
        "    print(resultado)"
      ]
    }
  ]
}