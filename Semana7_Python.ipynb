{
  "nbformat": 4,
  "nbformat_minor": 0,
  "metadata": {
    "colab": {
      "name": "Semana7 - Python.ipynb",
      "provenance": []
    },
    "kernelspec": {
      "name": "python3",
      "display_name": "Python 3"
    },
    "language_info": {
      "name": "python"
    }
  },
  "cells": [
    {
      "cell_type": "markdown",
      "source": [
        "# **Archivos**"
      ],
      "metadata": {
        "id": "WRKaiuLUKYAf"
      }
    },
    {
      "cell_type": "markdown",
      "source": [
        "Crear un archivo de texto"
      ],
      "metadata": {
        "id": "arDH6piqKdIn"
      }
    },
    {
      "cell_type": "code",
      "execution_count": 1,
      "metadata": {
        "id": "bylJC8buKFdx"
      },
      "outputs": [],
      "source": [
        "with open(\"test.txt\", \"w\") as fwriter:\n",
        "  fwriter.write(\"Este es mi mensaje\")"
      ]
    },
    {
      "cell_type": "markdown",
      "source": [
        "Leer un archivo de texto, leo las líneas del archivo, recorro un array de indices lo que contiene en cada línea"
      ],
      "metadata": {
        "id": "nafrnJARKpP4"
      }
    },
    {
      "cell_type": "code",
      "source": [
        "with open(\"test.txt\", \"r\") as freader:\n",
        "  lineas = freader.readlines()\n",
        "  for x in range(len(lineas)):\n",
        "    print(x, \" - \", [lineas[x]])"
      ],
      "metadata": {
        "colab": {
          "base_uri": "https://localhost:8080/"
        },
        "id": "3GqQmRyUKcBH",
        "outputId": "41e924c3-2c92-4997-9033-2f2c279f4428"
      },
      "execution_count": 2,
      "outputs": [
        {
          "output_type": "stream",
          "name": "stdout",
          "text": [
            "0  -  ['Este es mi mensaje']\n"
          ]
        }
      ]
    }
  ]
}